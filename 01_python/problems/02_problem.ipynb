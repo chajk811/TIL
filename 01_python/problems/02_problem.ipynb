{
 "cells": [
  {
   "cell_type": "markdown",
   "metadata": {},
   "source": [
    "# 과일 개수 골라내기\n",
    "\n",
    "> 장바구니에 아래와 같은 과일이 들어있고 과일 판별 리스트가 있습니다.\n",
    "\n",
    "```python\n",
    "basket_items = {'apples': 4, 'oranges': 19, 'kites': 3, 'sandwiches': 8}\n",
    "\n",
    "fruits = ['apples', 'oranges', 'pears', 'peaches', 'grapes', 'bananas']\n",
    "\n",
    "```\n",
    "> 현재 장바구니에는 과일이 몇개이고 과일이 아닌 것은 몇개인지 출력하시오.\n",
    "---\n",
    "```\n",
    "예시 출력)\n",
    "과일은 23개이고, 11개는 과일이 아닙니다..\n",
    "```"
   ]
  },
  {
   "cell_type": "code",
   "execution_count": null,
   "metadata": {},
   "outputs": [],
   "source": [
    "basket_items = {'apples': 4, 'oranges': 19, 'kites': 3, 'sandwiches': 8}\n",
    "fruits = ['apples', 'oranges', 'pears', 'peaches', 'grapes', 'bananas']\n",
    "# 아래에 코드를 작성하세요."
   ]
  },
  {
   "cell_type": "code",
   "execution_count": null,
   "metadata": {},
   "outputs": [],
   "source": [
    "num_fruit = 0\n",
    "num_other = 0\n",
    "\n",
    "for key in basket_items:\n",
    "    if key in fruits:\n",
    "        num_fruit += basket_items[key]\n",
    "    else:\n",
    "        num_other += basket_items[key]\n",
    "print(f'과일은 {num_fruit}개이고, {num_other}개는 과일이 아닙니다..')"
   ]
  },
  {
   "cell_type": "code",
   "execution_count": null,
   "metadata": {},
   "outputs": [],
   "source": [
    "# 풀이\n",
    "# 딕셔너리 카운트\n",
    "# 딕셔너리에서 키와 값을 모두 가져와서, 키가 과일 리스트에 있으면 특정 카운트에 그 키의 값을 계속해서 더한다.\n",
    "# 반대로 키가 과일 리스트에 없으면, 다른 카운트에 그 키의 값을 계속 더한다.\n",
    "\n",
    "# fruit_count = 0\n",
    "# not_fruit_count = 0\n",
    "\n",
    "# for fruit, count in basket_items.items():\n",
    "#     if fruit in fruits:\n",
    "#         fruit_count += count\n",
    "#     else:\n",
    "#         not_fruit_count +=count\n",
    "# print(f'과일은 {fruit_count}개이고, {not_fruit_count}개는 과일이 아닙니다..')"
   ]
  },
  {
   "cell_type": "markdown",
   "metadata": {},
   "source": [
    "# 영어 이름 출력하기 \n",
    "\n",
    "> 영어 이름은 가운데 이름을 가지고 있는 경우가 있습니다.\n",
    ">\n",
    "> 가운데 이름은 대문자로 축약해서 나타내는 코드를 작성해보세요.\n",
    "\n",
    "---\n",
    "```\n",
    "예시 입력)\n",
    "Alice Betty Catherine Davis\n",
    "```\n",
    "```\n",
    "예시 출력)\n",
    "Alice B. C. Davis\n",
    "```"
   ]
  },
  {
   "cell_type": "code",
   "execution_count": null,
   "metadata": {},
   "outputs": [],
   "source": [
    "name = 'Alice Betty Catherine Davis'\n",
    "# 아래에 코드를 작성하세요."
   ]
  },
  {
   "cell_type": "code",
   "execution_count": null,
   "metadata": {},
   "outputs": [],
   "source": [
    "# 이름을 구획별로 리스트를 만들어 주고, 처음과 끝을 찾아 제외하고 가운데 있는 부분만 축약하기\n",
    "name_list = name.split(' ')\n",
    "middle_name = ''\n",
    "\n",
    "for i in name_list:\n",
    "    if i != name_list[0] and i != name_list[-1]:\n",
    "        middle_name += i[0].upper() + '. '\n",
    "\n",
    "print(f'{name_list[0]} {middle_name}{name_list[-1]}')"
   ]
  },
  {
   "cell_type": "code",
   "execution_count": null,
   "metadata": {},
   "outputs": [],
   "source": [
    "# 풀이\n",
    "# # 이름을 받는다.\n",
    "# name = input()\n",
    "# names = name.split()\n",
    "\n",
    "# # 반복문을 통해 처음과 끝요소를 제외한 나머지 요소들을 '대문자+.'으로 변경한다.\n",
    "# for i in range(1, len(names)-1):\n",
    "#     names[i] = names[i][0].upper() + '.' # .upper 대문자로 변환\n",
    "\n",
    "# # 리스트를 문자열로 바꾼다. (.join())\n",
    "# print(' '.join(names))"
   ]
  },
  {
   "cell_type": "markdown",
   "metadata": {},
   "source": [
    "# 구구단 출력하기\n",
    "> 2단부터 9단까지 반복문을 사용하여 구구단을 출력하세요.\n",
    "---\n",
    "```\n",
    "예시 출력)\n",
    "------- [2 단] -------\n",
    "2 X 1 = 2\n",
    "2 X 2 = 4\n",
    "2 X 3 = 6\n",
    "2 X 4 = 8\n",
    "2 X 5 = 10\n",
    "2 X 6 = 12\n",
    "2 X 7 = 14\n",
    "2 X 8 = 16\n",
    "2 X 9 = 18\n",
    "\n",
    "------- [3 단] -------\n",
    "...\n",
    "```"
   ]
  },
  {
   "cell_type": "code",
   "execution_count": null,
   "metadata": {},
   "outputs": [],
   "source": [
    "# 아래에 코드를 작성하세요."
   ]
  },
  {
   "cell_type": "code",
   "execution_count": null,
   "metadata": {},
   "outputs": [],
   "source": [
    "for i in range(2,10):\n",
    "    print(f'------- [{i} 단] -------')\n",
    "    for j in range(1,10):\n",
    "        print(f'{i} X {j} = {i * j}')\n",
    "    print()"
   ]
  },
  {
   "cell_type": "markdown",
   "metadata": {},
   "source": [
    "# 달력 출력하기\n",
    "\n",
    "> 1월 1일 월요일부터 12월 31일까지 달력을 출력하세요.\n",
    "\n",
    "---\n",
    "```\n",
    "예시 출력)\n",
    "         1 월\n",
    "Mo Tu We Th Fr Sa Su \n",
    " 1  2  3  4  5  6  7 \n",
    " 8  9 10 11 12 13 14 \n",
    "15 16 17 18 19 20 21 \n",
    "22 23 24 25 26 27 28 \n",
    "29 30 31 \n",
    "         2 월\n",
    "Mo Tu We Th Fr Sa Su \n",
    " 1  2  3  4  5  6  7 \n",
    " 8  9 10 11 12 13 14 \n",
    "15 16 17 18 19 20 21 \n",
    "22 23 24 25 26 27 28 \n",
    "\n",
    "         3 월\n",
    "Mo Tu We Th Fr Sa Su \n",
    " 1  2  3  4  5  6  7 \n",
    " 8  9 10 11 12 13 14 \n",
    "15 16 17 18 19 20 21 \n",
    "22 23 24 25 26 27 28 \n",
    "29 30 31\n",
    "...\n",
    "```"
   ]
  },
  {
   "cell_type": "code",
   "execution_count": null,
   "metadata": {},
   "outputs": [],
   "source": [
    "calendar = { \n",
    "        1: 31, 2: 28, 3: 31, 4: 30, 5: 31,6: 30, \n",
    "        7: 31, 8: 31, 9: 30, 10: 31, 11: 30, 12: 31 \n",
    "} \n",
    "weeks = ['Mo', 'Tu', 'We', 'Th', 'Fr', 'Sa', 'Su'] \n",
    "# 아래에 코드를 작성하세요."
   ]
  },
  {
   "cell_type": "code",
   "execution_count": null,
   "metadata": {},
   "outputs": [],
   "source": [
    "# 일단 1부터 12까지 for문으로 도는데, 각각의 해당 월에 일 수가 다르다. \n",
    "# 해당 월의 일 수는 calender 딕셔너리의 value 값이다.\n",
    "# value 값을 사용해 for문의 범위를 정해주고 출력해준다.\n",
    "# 월 중간에 weeks 정보를 출력해준다.\n",
    "week_str = ''\n",
    "\n",
    "for week in weeks:\n",
    "    week_str += week + ' '\n",
    "\n",
    "for month in calendar:\n",
    "    print(f'        {month:2} 월\\n{week_str}')\n",
    "    for day in range(1, calendar.get(month) + 1):\n",
    "        if day % 7:\n",
    "            print(f'{day:2}', end=' ')\n",
    "        else:\n",
    "            print(f'{day:2}')\n",
    "    print('\\n')"
   ]
  },
  {
   "cell_type": "code",
   "execution_count": null,
   "metadata": {},
   "outputs": [],
   "source": [
    "# # 풀이\n",
    "# # 딕셔너리의 키, 값을 반복문을 통해 이용한다.\n",
    "# for month, count_day in calendar.items():\n",
    "#     count = 0\n",
    "#     print(f'{month:10} 월')\n",
    "#     for day in weeks:\n",
    "#         print(f'{day}', end=' ')\n",
    "#     print()\n",
    "    \n",
    "#     for i in range(1,count_day+1):\n",
    "#         print(f'{i:2}', end=' ')\n",
    "#         count += 1\n",
    "#         if count == 7:\n",
    "#             print()\n",
    "#             count = 0\n",
    "#     print()"
   ]
  },
  {
   "cell_type": "markdown",
   "metadata": {},
   "source": [
    "# 개인정보보호\n",
    "> 사용자의 핸드폰번호를 입력 받으려고한다. 개인정보 보호를 위하여 뒷자리 4자리를 제외하고는 마스킹 처리를 하려고한다.\n",
    ">\n",
    "> 핸드폰번호는 010으로 시작해야하고 11자리여야한다. 핸드폰번호를 입력하지 않았다면 \"핸드폰번호를 입력하세요\"를 출력한다\n",
    "\n",
    "```\n",
    "예시 입력)\n",
    "01012341234\n",
    "예시 출력)\n",
    "*******1234\n",
    "```"
   ]
  },
  {
   "cell_type": "code",
   "execution_count": null,
   "metadata": {},
   "outputs": [],
   "source": [
    "# 아래에 코드를 작성하세요."
   ]
  },
  {
   "cell_type": "code",
   "execution_count": null,
   "metadata": {},
   "outputs": [],
   "source": [
    "# if문으로 휴대폰 번호(11자리 and 010으로 시작)가 아니면 지시문을 출력한다.\n",
    "# 입력 받은 휴대폰 번호를 앞자리는 슬라이싱이나 빈 변수에 대입하여 결과 값을 출력하기\n",
    "phone_number = input('핸드폰 번호 : ')\n",
    "\n",
    "if phone_number[:3] == '010' and len(phone_number) == 11:\n",
    "    print(f'*******{phone_number[7:]}')\n",
    "else:\n",
    "    print('핸드폰번호를 입력하세요')"
   ]
  },
  {
   "cell_type": "code",
   "execution_count": null,
   "metadata": {},
   "outputs": [],
   "source": [
    "# # 풀이\n",
    "# phone_number = input('핸드폰 번호 : ')\n",
    "\n",
    "# if phone_number[:3] == '010' and len(phone_number) == 11:\n",
    "#     print(f'{phone_number[-4:]:*>11}')\n",
    "# else:\n",
    "#     print('핸드폰번호를 입력하세요')"
   ]
  },
  {
   "cell_type": "markdown",
   "metadata": {},
   "source": [
    "# 정중앙\n",
    "> 사용자가 입력한 문자열중 가운데 글자를 출력하라. 문자열이 짝수라면 가운데 두글자를 출력하라"
   ]
  },
  {
   "cell_type": "code",
   "execution_count": null,
   "metadata": {},
   "outputs": [],
   "source": [
    "# 아래에 코드를 작성하세요."
   ]
  },
  {
   "cell_type": "code",
   "execution_count": null,
   "metadata": {},
   "outputs": [],
   "source": [
    "# 짝수일 때 홀수일 때 나눠서 생각?\n",
    "my_str = input('문장을 입력하시오 : ')\n",
    "num = len(my_str) // 2\n",
    "\n",
    "if len(my_str) % 2: \n",
    "    print(my_str[num])\n",
    "else:\n",
    "    print(my_str[num-1:num+1])"
   ]
  },
  {
   "cell_type": "markdown",
   "metadata": {},
   "source": [
    "# 소수 찾기"
   ]
  },
  {
   "cell_type": "markdown",
   "metadata": {},
   "source": [
    "> 조건, 반복문을 응용하여 numbers 리스트의 요소들이 소수인지 아닌지 판단하는 코드를 작성하라.\n",
    "\n",
    "```python\n",
    "numbers = [26, 39, 51, 53, 57, 79, 85]\n",
    "\n",
    "# 출력 예시\n",
    "26 는 소수가 아닙니다. 2 는 26 의 인수입니다.\n",
    "39 는 소수가 아닙니다. 3 는 39 의 인수입니다.\n",
    "51 는 소수가 아닙니다. 3 는 51 의 인수입니다.\n",
    "53 는 소수입니다.\n",
    "57 는 소수가 아닙니다. 3 는 57 의 인수입니다.\n",
    "79 는 소수입니다.\n",
    "85 는 소수가 아닙니다. 5 는 85 의 인수입니다.\n",
    "```"
   ]
  },
  {
   "cell_type": "code",
   "execution_count": null,
   "metadata": {},
   "outputs": [],
   "source": [
    "numbers = [26, 39, 51, 53, 57, 79, 85]\n",
    "# 아래에 코드를 작성하세요."
   ]
  },
  {
   "cell_type": "code",
   "execution_count": null,
   "metadata": {
    "scrolled": true
   },
   "outputs": [],
   "source": [
    "# 몫이 자기 자신과 1밖에 없는 수를 소수라고 함.\n",
    "# if문으로 1을 제외시키고\n",
    "# 1이 아니라면 2부터 그 숫자-1까지 나눴을 때의 나머지가 0이면 소수,\n",
    "# 0이 아니면 소수가 아니며, 1을 제외하고 순차적으로 나눴을 때 가장 먼저 나눠진 수를 인수라고 출력한다.\n",
    "\n",
    "for number in numbers:\n",
    "    for i in range(2, number):\n",
    "        if number % i == 0 :\n",
    "            print(f'{number} 는 소수가 아닙니다. {i} 는 {number} 의 인수입니다.')\n",
    "            break\n",
    "    else:\n",
    "        print(f'{number} 는 소수입니다.')"
   ]
  }
 ],
 "metadata": {
  "kernelspec": {
   "display_name": "Python 3",
   "language": "python",
   "name": "python3"
  },
  "language_info": {
   "codemirror_mode": {
    "name": "ipython",
    "version": 3
   },
   "file_extension": ".py",
   "mimetype": "text/x-python",
   "name": "python",
   "nbconvert_exporter": "python",
   "pygments_lexer": "ipython3",
   "version": "3.7.3"
  },
  "latex_envs": {
   "LaTeX_envs_menu_present": true,
   "autoclose": false,
   "autocomplete": true,
   "bibliofile": "biblio.bib",
   "cite_by": "apalike",
   "current_citInitial": 1,
   "eqLabelWithNumbers": true,
   "eqNumInitial": 1,
   "hotkeys": {
    "equation": "Ctrl-E",
    "itemize": "Ctrl-I"
   },
   "labels_anchors": false,
   "latex_user_defs": false,
   "report_style_numbering": false,
   "user_envs_cfg": false
  },
  "toc": {
   "base_numbering": 1,
   "nav_menu": {},
   "number_sections": true,
   "sideBar": true,
   "skip_h1_title": false,
   "title_cell": "Table of Contents",
   "title_sidebar": "Contents",
   "toc_cell": false,
   "toc_position": {},
   "toc_section_display": true,
   "toc_window_display": false
  }
 },
 "nbformat": 4,
 "nbformat_minor": 2
}
