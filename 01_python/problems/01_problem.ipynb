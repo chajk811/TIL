{
 "cells": [
  {
   "cell_type": "markdown",
   "metadata": {},
   "source": [
    "# 상승장? 하락장?\n",
    "\n",
    "> 최고가와 최저가의 차이를 변동폭으로 정의할 때 (시가 + 변동폭)이 최고가 보다 높을 경우 \"상승장\", 그렇지 않은 경우 \"하락장\" 문자열을 출력하라.\n",
    "\n",
    "|Key Name|Description|\n",
    "|------|---|\n",
    "|opeing_price|최근 24시간 내 시작 거래금액|\n",
    "|closing_price|최근 24시간 내 마지막 거래금액|\n",
    "|min_price|최근 24시간 내 최저 거래금액|\n",
    "|max_price|최근 24시간 내 최고 거래금액|"
   ]
  },
  {
   "cell_type": "code",
   "execution_count": null,
   "metadata": {},
   "outputs": [],
   "source": [
    "import requests\n",
    "from pprint import pprint\n",
    "\n",
    "url = \"https://api.bithumb.com/public/ticker/btc\"\n",
    "data = requests.get(url).json()['data']\n",
    "print(data)"
   ]
  },
  {
   "cell_type": "code",
   "execution_count": null,
   "metadata": {},
   "outputs": [],
   "source": [
    "# 아래에 코드를 작성하세요."
   ]
  },
  {
   "cell_type": "code",
   "execution_count": null,
   "metadata": {},
   "outputs": [],
   "source": [
    "# 변동폭 : 최고가와 최저가의 차이\n",
    "# 시가 : 시작가\n",
    "# 상승장 : 시가 + 변동폭이 최고가보다 높은 경우\n",
    "# 하락장 : 시가 + 변동폭이 최고가보다 낮은 경우\n",
    "\n",
    "market_price = int(data['opening_price'])\n",
    "gap = int(data['max_price']) - int(data['min_price'])\n",
    "max_price = int(data['max_price'])\n",
    "min_price = int(data['min_price'])\n",
    "\n",
    "if market_price + gap > max_price:\n",
    "    print('상승장')\n",
    "else:\n",
    "    print('하락장')"
   ]
  },
  {
   "cell_type": "code",
   "execution_count": null,
   "metadata": {},
   "outputs": [],
   "source": [
    "## 풀이/ 변수를 조건문에 직접 대입해서 작성해도 가능하다. \n",
    "\n",
    "##최고가와 최저가\n",
    "# max_price = int(data.get('max_price'))\n",
    "# min_price = int(data.get('min_price'))\n",
    "\n",
    "## 변동폭\n",
    "# volatility = max_price - min_price\n",
    "\n",
    "## 시가\n",
    "# opening_price = int(data.get('opening_price'))\n",
    "\n",
    "## '시가 + 변동폭'이 최고가 보다 높나요?\n",
    "# if opening_price + volatility > max_price:\n",
    "#     print('상승장')\n",
    "# else:\n",
    "#     print('하락장')"
   ]
  },
  {
   "cell_type": "markdown",
   "metadata": {},
   "source": [
    "# 모음 제거하기\n",
    "\n",
    "> 다음 문장의 모음을 제거하여 출력하세요.\n",
    "\n",
    "```\n",
    "예시 입력)\n",
    "\"Life is too short, you need python\"\n",
    "예시 출력)\n",
    "Lf s t shrt, y nd pythn\n",
    "```"
   ]
  },
  {
   "cell_type": "code",
   "execution_count": null,
   "metadata": {},
   "outputs": [],
   "source": [
    "my_str = \"Life is too short, you need python\""
   ]
  },
  {
   "cell_type": "code",
   "execution_count": null,
   "metadata": {},
   "outputs": [],
   "source": [
    "# 아래에 코드를 작성하세요."
   ]
  },
  {
   "cell_type": "code",
   "execution_count": null,
   "metadata": {},
   "outputs": [],
   "source": [
    "vowel = ['a', 'e', 'i', 'o', 'u']\n",
    "result_str = ''\n",
    "\n",
    "for i in my_str:\n",
    "    if i not in vowel:\n",
    "        result_str += i        \n",
    "    else:\n",
    "        pass\n",
    "\n",
    "print(result_str)"
   ]
  },
  {
   "cell_type": "code",
   "execution_count": null,
   "metadata": {},
   "outputs": [],
   "source": [
    "## 풀이 1\n",
    "\n",
    "# result = ''\n",
    "\n",
    "# for char in my_str:\n",
    "#     if char != 'a' and char != 'e' and char != 'i' and char != 'o' and char != 'u':\n",
    "#         ## result = result + char\n",
    "#         result += char\n",
    "# print(result)"
   ]
  },
  {
   "cell_type": "code",
   "execution_count": null,
   "metadata": {},
   "outputs": [],
   "source": [
    "## 무식해보이지만 맞는 코드이다. 이렇게 단계벌로 끊어서 생각하면 문제를 풀 수 있다.\n",
    "## 아래 2가지 추가 풀이는 한번에 접근해서 짤 수는 없다. 지금은 우선 위처럼 짜는게 우선이다."
   ]
  },
  {
   "cell_type": "code",
   "execution_count": null,
   "metadata": {},
   "outputs": [],
   "source": [
    "## 풀이 2 : 각각의 비교가 아니라. 어떤 통 안에 들어있나없나를 판단.\n",
    "\n",
    "# vowels = ['a', 'e', 'i', 'o', 'u']\n",
    "# result = ''\n",
    "\n",
    "# for char in my_str:\n",
    "#     if char not in vowels:\n",
    "#         result += char\n",
    "# print(result)"
   ]
  },
  {
   "cell_type": "code",
   "execution_count": null,
   "metadata": {},
   "outputs": [],
   "source": [
    "## 풀이 3 : 새로운 변수를 만드는게 아니라 원본을 수정\n",
    "\n",
    "# vowels = 'aeiou'\n",
    "\n",
    "# for vowel in vowels:\n",
    "#     my_str = my_str.replace(vowel, '')\n",
    "\n",
    "# print(my_str)"
   ]
  }
 ],
 "metadata": {
  "kernelspec": {
   "display_name": "Python 3",
   "language": "python",
   "name": "python3"
  },
  "language_info": {
   "codemirror_mode": {
    "name": "ipython",
    "version": 3
   },
   "file_extension": ".py",
   "mimetype": "text/x-python",
   "name": "python",
   "nbconvert_exporter": "python",
   "pygments_lexer": "ipython3",
   "version": "3.7.3"
  },
  "toc": {
   "base_numbering": 1,
   "nav_menu": {},
   "number_sections": true,
   "sideBar": true,
   "skip_h1_title": false,
   "title_cell": "Table of Contents",
   "title_sidebar": "Contents",
   "toc_cell": false,
   "toc_position": {},
   "toc_section_display": true,
   "toc_window_display": true
  }
 },
 "nbformat": 4,
 "nbformat_minor": 2
}
