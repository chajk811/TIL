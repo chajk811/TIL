{
 "cells": [
  {
   "cell_type": "markdown",
   "metadata": {},
   "source": [
    "# 메소드 없는 세상 <1>\n",
    "\n",
    "> 알파벳으로 이뤄진 word를 입력받아 알파벳 대소문자를 서로 교환한 결과를 반환하는 `my_swapcase(word)`를 작성해주세요.\n",
    "\n",
    "**`.upper()`, `.lower()`, `swapcase()`는 사용하지 말아주세요.**\n",
    "\n",
    "**Tip! 문자와 숫자에는 특별한 관계가 있습니다. Google에서 아스키 코드를 참고하세요**\n",
    "\n",
    "```python\n",
    "# 예시\n",
    "print(my_swapcase('hello, World!')) # => HELLO, wORLD!\n",
    "print(my_swapcase('@_@')) # => @_@\n",
    "print(my_swapcase('2^3은 8이다!')) # => 2^3은 8이다!\n",
    "```"
   ]
  },
  {
   "cell_type": "code",
   "execution_count": null,
   "metadata": {},
   "outputs": [],
   "source": [
    "# 아래에 코드를 작성해주세요."
   ]
  },
  {
   "cell_type": "code",
   "execution_count": null,
   "metadata": {},
   "outputs": [],
   "source": [
    "# ord() : 알바펫 -> 아스키코드\n",
    "# chr() : 아스키코드 -> 알파벳\n",
    "# 알파벳 대문자 65~90\n",
    "# 알파벳 소문자 97~122\n",
    "# 32 차이난다.\n",
    "\n",
    "def my_swapcase(words):\n",
    "    ascii_list = list(map(ord, words))\n",
    "    result = []\n",
    "    \n",
    "    for i in ascii_list:\n",
    "        if  65 <= i <= 90:\n",
    "            result.append(i+32)\n",
    "        elif 97 <= i <= 122:\n",
    "            result.append(i-32)\n",
    "        else:\n",
    "            result.append(i)\n",
    "            \n",
    "    return ''.join(list(map(chr, result)))"
   ]
  },
  {
   "cell_type": "code",
   "execution_count": null,
   "metadata": {},
   "outputs": [],
   "source": [
    "print(my_swapcase('hello, World!'))\n",
    "print(my_swapcase('@_@'))\n",
    "print(my_swapcase('2^3은 8이다!'))"
   ]
  },
  {
   "cell_type": "markdown",
   "metadata": {},
   "source": [
    "# 메소드 없는 세상 <2>\n",
    "\n",
    "> 우리는 문자열을 만들어 나갈 때, `.join(iterable)` 함수를 사용합니다. \n",
    ">\n",
    "> `.join(iterable)`이 생각나지 않을 때를 위해 직접 만들어보면서 감사함을 느껴봅시다.\n",
    ">\n",
    "> `my_join(target, word)`를 만들어 문자열을 반환해주세요.\n",
    ">\n",
    "> target은 바꿀 대상(iterable)이며, word는 합쳐지는 단어입니다. \n",
    "\n",
    "---\n",
    "\n",
    "\n",
    "예시)\n",
    "\n",
    "`''.join(a)` 와 `my_join(a, '')`은 같은 함수 호출입니다.\n",
    "\n",
    "```python\n",
    "print(my_join('배고파', '.')) # => 배.고.파\n",
    "print(my_join(['1', '2', '3'], '')) # => 123\n",
    "```"
   ]
  },
  {
   "cell_type": "code",
   "execution_count": null,
   "metadata": {},
   "outputs": [],
   "source": [
    "# 아래에 코드를 작성해주세요."
   ]
  },
  {
   "cell_type": "code",
   "execution_count": null,
   "metadata": {},
   "outputs": [],
   "source": [
    "def my_join(target, word):\n",
    "    result = ''\n",
    "    \n",
    "    for char in target:\n",
    "        result += char + word\n",
    "    \n",
    "    if word == '':\n",
    "        return result\n",
    "    else:\n",
    "        return result[:-1]"
   ]
  },
  {
   "cell_type": "code",
   "execution_count": null,
   "metadata": {},
   "outputs": [],
   "source": [
    "# 1\n",
    "def my_join(target, word):\n",
    "    # 첫 문자열은 원본의 첫번째 값\n",
    "    result = target[0]\n",
    "    for i in target[1:]:\n",
    "        result += word + i\n",
    "        \n",
    "    return result"
   ]
  },
  {
   "cell_type": "code",
   "execution_count": null,
   "metadata": {},
   "outputs": [],
   "source": [
    "print(my_join('배고파', '.'))\n",
    "print(my_join(['1', '2', '3'], ''))"
   ]
  },
  {
   "cell_type": "markdown",
   "metadata": {},
   "source": [
    "#  가능한 적게 변경하기\n",
    "\n",
    "> 대문자와 소문자가 혼합되어 있는 문자열어 주어지며\n",
    ">\n",
    "> 다음의 기준에 따라서 문자열을 소문자 혹은 대문자로 변환하세요.\n",
    "\n",
    "\n",
    "*  가능한 적게 변경하세요.\n",
    "*  만약에 문자열의 대문자 혹은 소문자가 같다면, 문자열을 모두 소문자로 변경하세요.\n",
    "\n",
    "--- \n",
    "\n",
    "```python\n",
    "# 예시 입력) \n",
    "print(solve('coDe'))\n",
    "print(solve('CODe'))\n",
    "print(solve('coDE'))\n",
    "\n",
    "# 예시 출력)\n",
    "'code'\n",
    "'CODE'\n",
    "'code'\n",
    "```"
   ]
  },
  {
   "cell_type": "code",
   "execution_count": null,
   "metadata": {},
   "outputs": [],
   "source": [
    "# 아래에 코드를 작성해주세요."
   ]
  },
  {
   "cell_type": "code",
   "execution_count": null,
   "metadata": {},
   "outputs": [],
   "source": [
    "def solve(words):\n",
    "    upper_count = 0\n",
    "    lower_count = 0\n",
    "    result = ''\n",
    "    \n",
    "    for word in words:\n",
    "        if word.isupper():\n",
    "            upper_count += 1\n",
    "        else:\n",
    "            lower_count += 1\n",
    "    \n",
    "    if upper_count > lower_count:\n",
    "        result = words.upper()\n",
    "    else:\n",
    "        result = words.lower()\n",
    "    \n",
    "    return result"
   ]
  },
  {
   "cell_type": "code",
   "execution_count": null,
   "metadata": {},
   "outputs": [],
   "source": [
    "# 1\n",
    "def solve(words):\n",
    "    upper = 0\n",
    "    lower = 0\n",
    "    \n",
    "    # 대소문자를 각자 카운트\n",
    "    for word in words:\n",
    "        if word.islower():\n",
    "            lower += 1\n",
    "        else:\n",
    "            upper += 1\n",
    "            \n",
    "    # 두 개의 카운트 값을 비교해서 원본을 변경\n",
    "    if lower == upper or lower > upper:\n",
    "        return words.lower()\n",
    "    else:\n",
    "        return words.upper()"
   ]
  },
  {
   "cell_type": "code",
   "execution_count": null,
   "metadata": {},
   "outputs": [],
   "source": [
    "# 2 대문자만 카운트, 원본길이의 절반보다 많으면 대문자로 변경/ 아니면 소문자로 변경\n",
    "def solve(words):\n",
    "    count = 0\n",
    "    for word in words:\n",
    "        if word.isupper():\n",
    "            count += 1\n",
    "        if count > len(words)/2:\n",
    "            return words.upper()\n",
    "        else:\n",
    "            return words.lower()"
   ]
  },
  {
   "cell_type": "code",
   "execution_count": null,
   "metadata": {},
   "outputs": [],
   "source": [
    "def solve(words):\n",
    "    count = sum([1 for word in words if word.isupper()])\n",
    "    for word in words:\n",
    "        if word.isupper():\n",
    "            count += 1\n",
    "        if count > len(words)/2:\n",
    "            return words.upper()\n",
    "        else:\n",
    "            return words.lower()"
   ]
  },
  {
   "cell_type": "code",
   "execution_count": null,
   "metadata": {},
   "outputs": [],
   "source": [
    "print(solve('coDe'))\n",
    "print(solve('CODe'))\n",
    "print(solve('coDE'))"
   ]
  },
  {
   "cell_type": "markdown",
   "metadata": {},
   "source": [
    "# 숨바꼭질\n",
    "\n",
    "> 숫자가 주어지면, 사용되지 않은 숫자를 프린트하세요.\n",
    "\n",
    "---\n",
    "\n",
    "```python\n",
    "# 예시)\n",
    "unused_digits(12, 34, 56, 78) # => '09'\n",
    "\n",
    "unused_digits(2015, 8, 26)  # => '3479'\n",
    "```\n",
    "\n",
    "\n",
    "**결과값은 정렬되어야 합니다.**\n",
    "\n"
   ]
  },
  {
   "cell_type": "code",
   "execution_count": null,
   "metadata": {},
   "outputs": [],
   "source": [
    "# 아래에 코드를 작성해주세요."
   ]
  },
  {
   "cell_type": "code",
   "execution_count": null,
   "metadata": {},
   "outputs": [],
   "source": [
    "# 함수 인자를 리스트화 하고 set을 통해 중복 삭제\n",
    "# 0~1까지  숫자가 들어가 있는 리스트에서  함수 인자로 이루어진 숫자들을 빼주고\n",
    "# 숫자리스트를 str 형식으로 조합하여 리턴한다.\n",
    "\n",
    "def unused_digits(*arg):\n",
    "    nums = list(map(str, list(range(10))))\n",
    "    used_str = ''\n",
    "    \n",
    "    for i in arg:\n",
    "        used_str += str(i)\n",
    "        \n",
    "    print(used_str)\n",
    "    \n",
    "    for num in used_str:\n",
    "        if num in nums:\n",
    "            nums.remove(num)\n",
    "    \n",
    "    return ''.join(nums)"
   ]
  },
  {
   "cell_type": "code",
   "execution_count": null,
   "metadata": {},
   "outputs": [],
   "source": [
    "# 비교할 수 있는 set 구문을 하나 말들고 set('0123456789')\n",
    "# 입력된 값도 문자열 타입 + set 로 변경해서\n",
    "# 비교 set 에서 입력된 set를 뺀다.\n",
    "# 안쓴 번호만 남게 되는데 정렬하고 문자열로 합치면 됨\n",
    "\n",
    "def unused_digits(*args):\n",
    "    word = set('0123456789') # => {'1', '2', ...}\n",
    "    for arg in args:\n",
    "        word -= set(str(arg))\n",
    "    return ''.join(sorted(word))"
   ]
  },
  {
   "cell_type": "markdown",
   "metadata": {},
   "source": [
    "iterable - 시퀀스(문자열, 리스트, 튜플 ..)\n",
    "collection - set, dict .."
   ]
  },
  {
   "cell_type": "code",
   "execution_count": null,
   "metadata": {},
   "outputs": [],
   "source": [
    "print(unused_digits(12, 34, 56, 78))\n",
    "print(unused_digits(2015, 8, 26))"
   ]
  },
  {
   "cell_type": "markdown",
   "metadata": {},
   "source": [
    "# 짝홀짝홀"
   ]
  },
  {
   "cell_type": "markdown",
   "metadata": {},
   "source": [
    "> n개의 양의 정수 리스트가 주어지면, 홀수와 짝수를 분리하고 각각의 조건에 맞게 홀수와 짝수를 \n",
    "정렬하세요.\n",
    "\n",
    "> 조건\n",
    "1. 짝수와 홀수가 번갈아 가면서 나오게 됩니다.\n",
    "2. 짝수가 먼저 시작됩니다.\n",
    "3. 짝수는 오름차순으로 홀수는 내림차순으로 되어야합니다.\n",
    "\n",
    "> 실습 입력 인자 조건\n",
    "1. 인자 리스트의 크기는 적어도 4이상입니다.\n",
    "2. 인자 리스트의 요소값으로 0은 존재하지 않습니다.\n",
    "3. 인자 리스트의 요소값이 반복될 수 있으나 출력할 때는 중복 값이 없습니다.\n",
    "\n",
    "```python\n",
    "# 예시) \n",
    "\n",
    "print(even_and_odd([7, 3 , 14 , 17]))\n",
    "# => [14, 17, 7, 3]\n",
    "\n",
    "print(even_and_odd([1, 3, 5, 7, 9, 11]))\n",
    "# => [11, 9, 7, 5, 3, 1]\n",
    "\n",
    "print(even_and_odd([1, 2, 2, 4, 4, 6, 6, 2004, 9, 11]))\n",
    "# => [2, 11, 4, 9, 6, 1, 2004]\n",
    "```"
   ]
  },
  {
   "cell_type": "code",
   "execution_count": null,
   "metadata": {},
   "outputs": [],
   "source": [
    "# 여기에 코드를 작성하세요"
   ]
  },
  {
   "cell_type": "code",
   "execution_count": null,
   "metadata": {},
   "outputs": [],
   "source": [
    "# 리스트를 돌면서 짝수와 홀수를 구분하여 새로운 짝수리스트, 홀수리스트에 추가한다.\n",
    "# 리스트의 길이가 같아지도로 뒤쪽으로 None을 추가해준다 (길이가 다른 데이터를 처리해줄때 사용하면 좋은 방법!!!!)\n",
    "# 번갈아 가면서 result 함수에  추가\n",
    "# 마지막으로 None을 일괄 삭제\n",
    "\n",
    "\n",
    "def even_and_odd(nums):\n",
    "    odd = []\n",
    "    even = []\n",
    "    result = []\n",
    "    \n",
    "    for num in nums:\n",
    "        if num % 2:\n",
    "            odd.append(num)\n",
    "        else:\n",
    "            even.append(num)\n",
    "    \n",
    "    odd = list(set(odd))\n",
    "    even = list(set(even))\n",
    "    odd.sort(reverse=True)\n",
    "    even.sort()\n",
    "    \n",
    "    if len(odd) > len(even):\n",
    "        while len(even) < len(odd):\n",
    "            even.append(None)\n",
    "    elif len(odd) == len(even):\n",
    "        pass\n",
    "    else:\n",
    "        while len(even) > len(odd):\n",
    "            odd.append(None)\n",
    "    \n",
    "    for i in range(len(even)):\n",
    "        result.append(even[i])\n",
    "        result.append(odd[i])\n",
    "        \n",
    "    while None in result: \n",
    "        result.remove(None)\n",
    "\n",
    "    return result"
   ]
  },
  {
   "cell_type": "code",
   "execution_count": null,
   "metadata": {},
   "outputs": [],
   "source": [
    "# 1 pop() => return\n",
    "# set 으로 중복 제거 후 리스트로 변경후 정렬\n",
    "# 짝수 리스트와 홀수 리스트를 따로 분류\n",
    "# 둘다 오름차순 상태인데, pop을 사용할거기 때문에 문제와 반대로 정렬 해야한다.\n",
    "\n",
    "def even_and_odd(numbers):\n",
    "    numbers = sorted(list(set(numbers)))\n",
    "    even = []\n",
    "    odd = []\n",
    "    result = []\n",
    "    \n",
    "    for number in numbers:\n",
    "        if number % 2:\n",
    "            odd.append(number)\n",
    "        else:\n",
    "            even.append(number)\n",
    "    \n",
    "    even = even[::-1] # 짝수는 내림차순으로 변경(아래에서 pop으로 뒤에서부터 꺼낼 것이기 때문에.)\n",
    "    \n",
    "    # 짝수 리스트와 홀수 리스트가 모두 빌때까지 반복 / 새로운 결과 리스트에 넣기(짝수부터)\n",
    "    while True:\n",
    "        if len(even)==0 and len(odd)==0:\n",
    "            break\n",
    "        if len(even):\n",
    "            result.append(even.pop())\n",
    "        if len(odd):\n",
    "            result.append(odd.pop())\n",
    "    return result"
   ]
  },
  {
   "cell_type": "code",
   "execution_count": null,
   "metadata": {
    "scrolled": true
   },
   "outputs": [],
   "source": [
    "print(even_and_odd([7, 3, 14, 17]))\n",
    "print(even_and_odd([1, 3, 5, 7, 9, 11]))\n",
    "print(even_and_odd([1, 2, 2, 4, 4, 6, 6, 2004, 9, 11]))"
   ]
  },
  {
   "cell_type": "markdown",
   "metadata": {},
   "source": [
    "# 문자열 계산하기\n",
    "\n",
    "> 아래와 같이 문자열이 주어졌을 때, 바보같은 사용자를 위해 계산을 해주려고 한다.\n",
    ">\n",
    "> 이 계산기는 더하기와 빼기밖에 못한다.\n",
    ">\n",
    "> `calc(equation)`을 만들어봅시다.\n",
    "\n",
    "\n",
    "```python\n",
    "# 예시\n",
    "calc('123+2-124')\n",
    "#=> 1\n",
    "\n",
    "calc('-12+12-7979+9191')\n",
    "#=> 1212\n",
    "\n",
    "calc('+1-1+1-1+1-1+1-1+1-1+1-1+1-1+1-1+1-1+1-1+1-1+1-1+1-1+1-1+1-1+1-1')\n",
    "#=> 0\n",
    "```"
   ]
  },
  {
   "cell_type": "code",
   "execution_count": null,
   "metadata": {},
   "outputs": [],
   "source": [
    "# 여기에 코드를 작성하세요."
   ]
  },
  {
   "cell_type": "code",
   "execution_count": null,
   "metadata": {},
   "outputs": [],
   "source": [
    "# 뒤에서부터 순차적으로 부호를 포함함 숫자 단위로 더해준다.\n",
    "# 처음에 숫자로 시작하면 부호를 포함하지 않은 양수이므로 '+'를 추가하여 더하기 시작한다.\n",
    "\n",
    "def calc(equation):\n",
    "    result = 0\n",
    "    pick = ''\n",
    "    \n",
    "    if equation[0]!='-' and equation[0]!='+':\n",
    "        equation = '+' + equation\n",
    "    \n",
    "    for char in equation[::-1]:\n",
    "        if char == '+':\n",
    "            result += int(pick)\n",
    "            pick = ''\n",
    "        elif char == '-':\n",
    "            result -= int(pick)\n",
    "            pick = ''\n",
    "        else:\n",
    "            pick = char + pick\n",
    "            \n",
    "    return result"
   ]
  },
  {
   "cell_type": "code",
   "execution_count": null,
   "metadata": {},
   "outputs": [],
   "source": [
    "# 1 replace()\n",
    "def calc(equation):\n",
    "    equation = equation.replace('+', ' +')\n",
    "    equation = equation.replace('-', ' -')\n",
    "    result = equation.split()\n",
    "    return sum(map(int, result))"
   ]
  },
  {
   "cell_type": "code",
   "execution_count": null,
   "metadata": {},
   "outputs": [],
   "source": [
    "# 2\n",
    "def calc(equations):\n",
    "    new_str = ''\n",
    "    res_cal = 0\n",
    "    for equation in equations:\n",
    "        if equation.isdecimal():\n",
    "            new_str += equation\n",
    "        else:\n",
    "            if new_str:\n",
    "                res_cal += int(new_str)\n",
    "                new_str = ''\n",
    "            new_str += equation\n",
    "    res_cal += int(new_str)\n",
    "    return res_cal"
   ]
  },
  {
   "cell_type": "code",
   "execution_count": null,
   "metadata": {},
   "outputs": [],
   "source": [
    "# 3 \n",
    "def calc(equation):\n",
    "    return eval(equation)"
   ]
  },
  {
   "cell_type": "code",
   "execution_count": null,
   "metadata": {},
   "outputs": [],
   "source": [
    "print(calc('123+2-124'))\n",
    "print(calc('-12+12-7979+9191'))\n",
    "print(calc('+1-1+1-1+1-1+1-1+1-1+1-1+1-1+1-1+1-1+1-1+1-1+1-1+1-1+1-1+1-1+1-1'))"
   ]
  },
  {
   "cell_type": "code",
   "execution_count": null,
   "metadata": {},
   "outputs": [],
   "source": []
  }
 ],
 "metadata": {
  "kernelspec": {
   "display_name": "Python 3",
   "language": "python",
   "name": "python3"
  },
  "language_info": {
   "codemirror_mode": {
    "name": "ipython",
    "version": 3
   },
   "file_extension": ".py",
   "mimetype": "text/x-python",
   "name": "python",
   "nbconvert_exporter": "python",
   "pygments_lexer": "ipython3",
   "version": "3.7.3"
  },
  "latex_envs": {
   "LaTeX_envs_menu_present": true,
   "autoclose": false,
   "autocomplete": true,
   "bibliofile": "biblio.bib",
   "cite_by": "apalike",
   "current_citInitial": 1,
   "eqLabelWithNumbers": true,
   "eqNumInitial": 1,
   "hotkeys": {
    "equation": "Ctrl-E",
    "itemize": "Ctrl-I"
   },
   "labels_anchors": false,
   "latex_user_defs": false,
   "report_style_numbering": false,
   "user_envs_cfg": false
  },
  "toc": {
   "base_numbering": 1,
   "nav_menu": {},
   "number_sections": true,
   "sideBar": true,
   "skip_h1_title": false,
   "title_cell": "Table of Contents",
   "title_sidebar": "Contents",
   "toc_cell": false,
   "toc_position": {},
   "toc_section_display": true,
   "toc_window_display": false
  }
 },
 "nbformat": 4,
 "nbformat_minor": 2
}
